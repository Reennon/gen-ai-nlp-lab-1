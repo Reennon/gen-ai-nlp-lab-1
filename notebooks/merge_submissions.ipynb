{
 "cells": [
  {
   "cell_type": "code",
   "execution_count": 2,
   "metadata": {
    "collapsed": true,
    "ExecuteTime": {
     "end_time": "2024-12-11T18:13:40.329852Z",
     "start_time": "2024-12-11T18:13:39.898674Z"
    }
   },
   "outputs": [],
   "source": [
    "import pandas as pd"
   ]
  },
  {
   "cell_type": "code",
   "execution_count": 11,
   "outputs": [
    {
     "data": {
      "text/plain": "                                                    id  \\\n0    e29896ab781b5dbb97ae3f3f7862fa681e9d70a5e63866...   \n1    d67655fe3fe45e95cd63613c2189fe86728293bd0b8d3c...   \n2    b2c68352957ed341637aa9dd25b8a8ac00c32e8129d689...   \n3    bd22545c44af9e948961d48f5eacc6ec3c8867f4e21d16...   \n4    12dbf3946b7d21c038f5f480914bae5f8b06bb2edb0939...   \n..                                                 ...   \n165  81b910f7bea7f13f953478728a8a119d0e75ebeb728bb5...   \n166  a5c1f35b1a310c3a0a9c3b39432642577eca366c6e4e61...   \n167  dcb588274235339ab44950ee26872ed5cfc3fbb503a1a3...   \n168  b2a11bba5aeca217085bafa76544f734475c6eeb79ec1d...   \n169  685bc4e34d71522430a08a12f3f1fcef65c3fc01c51fba...   \n\n                                              entities  \\\n0    [{'label': 'LOC', 'text': 'село Моринці'}, {'l...   \n1    [{'label': 'MISC', 'text': 'шаховій Олімпіаді'...   \n2    [{'label': 'ART', 'text': 'А . Ждаха'}, {'labe...   \n3    [{'label': 'MISC', 'text': 'шахраї'}, {'label'...   \n4                                                   []   \n..                                                 ...   \n165                                                 []   \n166                                                 []   \n167  [{'label': 'ORG', 'text': 'Міністерство закорд...   \n168  [{'label': 'ORG', 'text': 'Служба автомобільни...   \n169  [{'label': 'LOG', 'text': 'Дмитро Борзих'}, {'...   \n\n                                                  text  \\\n0    Цікаву і пізнавальну подорож місцями , де наро...   \n1    Нещодавно на шаховій Олімпіаді українська жіно...   \n2    Виходець із козацько-старшинського роду А . Жд...   \n3    На довірливих кіровоградців полюють шахраї та ...   \n4    У Кіровограді голубів косить дивна хвороба .\\n...   \n..                                                 ...   \n165  ДП «Дирекція з будівництва та управління націо...   \n166  Регіональні залізниці 27-29 грудня за результа...   \n167  Міністерство закордонних справ України 29 лист...   \n168  23 жовтня Служба автомобільних доріг у Кіровог...   \n169  Заступник Головного військового прокурора Гене...   \n\n                                        entities_dumps  \n0    [{\"label\": \"LOC\", \"text\": \"\\u0441\\u0435\\u043b\\...  \n1    [{\"label\": \"MISC\", \"text\": \"\\u0448\\u0430\\u0445...  \n2    [{\"label\": \"ART\", \"text\": \"\\u0410 . \\u0416\\u04...  \n3    [{\"label\": \"MISC\", \"text\": \"\\u0448\\u0430\\u0445...  \n4                                                   []  \n..                                                 ...  \n165                                                 []  \n166                                                 []  \n167  [{\"label\": \"ORG\", \"text\": \"\\u041c\\u0456\\u043d\\...  \n168  [{\"label\": \"ORG\", \"text\": \"\\u0421\\u043b\\u0443\\...  \n169  [{\"label\": \"LOG\", \"text\": \"\\u0414\\u043c\\u0438\\...  \n\n[169 rows x 4 columns]",
      "text/html": "<div>\n<style scoped>\n    .dataframe tbody tr th:only-of-type {\n        vertical-align: middle;\n    }\n\n    .dataframe tbody tr th {\n        vertical-align: top;\n    }\n\n    .dataframe thead th {\n        text-align: right;\n    }\n</style>\n<table border=\"1\" class=\"dataframe\">\n  <thead>\n    <tr style=\"text-align: right;\">\n      <th></th>\n      <th>id</th>\n      <th>entities</th>\n      <th>text</th>\n      <th>entities_dumps</th>\n    </tr>\n  </thead>\n  <tbody>\n    <tr>\n      <th>0</th>\n      <td>e29896ab781b5dbb97ae3f3f7862fa681e9d70a5e63866...</td>\n      <td>[{'label': 'LOC', 'text': 'село Моринці'}, {'l...</td>\n      <td>Цікаву і пізнавальну подорож місцями , де наро...</td>\n      <td>[{\"label\": \"LOC\", \"text\": \"\\u0441\\u0435\\u043b\\...</td>\n    </tr>\n    <tr>\n      <th>1</th>\n      <td>d67655fe3fe45e95cd63613c2189fe86728293bd0b8d3c...</td>\n      <td>[{'label': 'MISC', 'text': 'шаховій Олімпіаді'...</td>\n      <td>Нещодавно на шаховій Олімпіаді українська жіно...</td>\n      <td>[{\"label\": \"MISC\", \"text\": \"\\u0448\\u0430\\u0445...</td>\n    </tr>\n    <tr>\n      <th>2</th>\n      <td>b2c68352957ed341637aa9dd25b8a8ac00c32e8129d689...</td>\n      <td>[{'label': 'ART', 'text': 'А . Ждаха'}, {'labe...</td>\n      <td>Виходець із козацько-старшинського роду А . Жд...</td>\n      <td>[{\"label\": \"ART\", \"text\": \"\\u0410 . \\u0416\\u04...</td>\n    </tr>\n    <tr>\n      <th>3</th>\n      <td>bd22545c44af9e948961d48f5eacc6ec3c8867f4e21d16...</td>\n      <td>[{'label': 'MISC', 'text': 'шахраї'}, {'label'...</td>\n      <td>На довірливих кіровоградців полюють шахраї та ...</td>\n      <td>[{\"label\": \"MISC\", \"text\": \"\\u0448\\u0430\\u0445...</td>\n    </tr>\n    <tr>\n      <th>4</th>\n      <td>12dbf3946b7d21c038f5f480914bae5f8b06bb2edb0939...</td>\n      <td>[]</td>\n      <td>У Кіровограді голубів косить дивна хвороба .\\n...</td>\n      <td>[]</td>\n    </tr>\n    <tr>\n      <th>...</th>\n      <td>...</td>\n      <td>...</td>\n      <td>...</td>\n      <td>...</td>\n    </tr>\n    <tr>\n      <th>165</th>\n      <td>81b910f7bea7f13f953478728a8a119d0e75ebeb728bb5...</td>\n      <td>[]</td>\n      <td>ДП «Дирекція з будівництва та управління націо...</td>\n      <td>[]</td>\n    </tr>\n    <tr>\n      <th>166</th>\n      <td>a5c1f35b1a310c3a0a9c3b39432642577eca366c6e4e61...</td>\n      <td>[]</td>\n      <td>Регіональні залізниці 27-29 грудня за результа...</td>\n      <td>[]</td>\n    </tr>\n    <tr>\n      <th>167</th>\n      <td>dcb588274235339ab44950ee26872ed5cfc3fbb503a1a3...</td>\n      <td>[{'label': 'ORG', 'text': 'Міністерство закорд...</td>\n      <td>Міністерство закордонних справ України 29 лист...</td>\n      <td>[{\"label\": \"ORG\", \"text\": \"\\u041c\\u0456\\u043d\\...</td>\n    </tr>\n    <tr>\n      <th>168</th>\n      <td>b2a11bba5aeca217085bafa76544f734475c6eeb79ec1d...</td>\n      <td>[{'label': 'ORG', 'text': 'Служба автомобільни...</td>\n      <td>23 жовтня Служба автомобільних доріг у Кіровог...</td>\n      <td>[{\"label\": \"ORG\", \"text\": \"\\u0421\\u043b\\u0443\\...</td>\n    </tr>\n    <tr>\n      <th>169</th>\n      <td>685bc4e34d71522430a08a12f3f1fcef65c3fc01c51fba...</td>\n      <td>[{'label': 'LOG', 'text': 'Дмитро Борзих'}, {'...</td>\n      <td>Заступник Головного військового прокурора Гене...</td>\n      <td>[{\"label\": \"LOG\", \"text\": \"\\u0414\\u043c\\u0438\\...</td>\n    </tr>\n  </tbody>\n</table>\n<p>169 rows × 4 columns</p>\n</div>"
     },
     "execution_count": 11,
     "metadata": {},
     "output_type": "execute_result"
    }
   ],
   "source": [
    "submissions_df = pd.concat([\n",
    "    pd.read_csv(\"../data/submission_0_27.csv\"),\n",
    "    pd.read_csv(\"../data/submission_27_43.csv\"),\n",
    "    pd.read_csv(\"../data/submission_43_86.csv\"),\n",
    "    pd.read_csv(\"../data/submission_86_129.csv\"),\n",
    "    pd.read_csv(\"../data/submission_129_170.csv\"),\n",
    "])\n",
    "submissions_df = submissions_df.reset_index(drop=True)\n",
    "submissions_df = submissions_df.drop_duplicates(subset=\"id\")\n",
    "submissions_df"
   ],
   "metadata": {
    "collapsed": false,
    "ExecuteTime": {
     "end_time": "2024-12-11T18:19:54.551917Z",
     "start_time": "2024-12-11T18:19:54.512802Z"
    }
   }
  },
  {
   "cell_type": "code",
   "execution_count": 9,
   "outputs": [],
   "source": [
    "submissions_df.to_csv(\"../data/submission_merged.csv\", index=False)"
   ],
   "metadata": {
    "collapsed": false,
    "ExecuteTime": {
     "end_time": "2024-12-11T18:17:08.613681Z",
     "start_time": "2024-12-11T18:17:08.584871Z"
    }
   }
  },
  {
   "cell_type": "code",
   "execution_count": 14,
   "outputs": [
    {
     "data": {
      "text/plain": "0      False\n1      False\n2      False\n3      False\n4       True\n       ...  \n165     True\n166     True\n167    False\n168    False\n169    False\nName: entities, Length: 169, dtype: bool"
     },
     "execution_count": 14,
     "metadata": {},
     "output_type": "execute_result"
    }
   ],
   "source": [
    "submissions_df.loc[:, \"entities\"] == \"[]\""
   ],
   "metadata": {
    "collapsed": false,
    "ExecuteTime": {
     "end_time": "2024-12-11T18:20:12.264142Z",
     "start_time": "2024-12-11T18:20:12.262134Z"
    }
   }
  },
  {
   "cell_type": "code",
   "execution_count": 17,
   "outputs": [
    {
     "data": {
      "text/plain": "                                                   id  \\\n0   e29896ab781b5dbb97ae3f3f7862fa681e9d70a5e63866...   \n1   d67655fe3fe45e95cd63613c2189fe86728293bd0b8d3c...   \n2   b2c68352957ed341637aa9dd25b8a8ac00c32e8129d689...   \n3   bd22545c44af9e948961d48f5eacc6ec3c8867f4e21d16...   \n7   1631e88b93dd4c5eb1713d2674f6652daa93ef93c12058...   \n..                                                ...   \n0   12dbf3946b7d21c038f5f480914bae5f8b06bb2edb0939...   \n2   c16a05c8d949e459fe3de4aa1b4f8ddd9a1438f4f2b876...   \n3   4931e7d5698cb5717e35c3812dbf5be5a9b5a4b8163859...   \n4   3cd65ee427c877b511fb592f0a8d9654e67f4eba6809ae...   \n5   fd3358c736ab92f7cd74f0b74234b5283bd51de993faa2...   \n\n                                             entities  \\\n0   [{'label': 'LOC', 'text': 'село Моринці'}, {'l...   \n1   [{'label': 'MISC', 'text': 'шаховій Олімпіаді'...   \n2   [{'label': 'ART', 'text': 'А . Ждаха'}, {'labe...   \n3   [{'label': 'MISC', 'text': 'шахраї'}, {'label'...   \n7   [{'label': 'LOC', 'text': 'Чернівцях'}, {'labe...   \n..                                                ...   \n0   [{'label': 'MISC', 'text': 'голубів'}, {'label...   \n2   [{'label': 'ART', 'text': 'країни'}, {'label':...   \n3   [{'label': 'LOG', 'text': 'Парламент'}, {'labe...   \n4   [{'label': 'ART', 'text': 'текст'}, {'label': ...   \n5   [{'label': 'ART', 'text': 'статті'}, {'label':...   \n\n                                                 text  \\\n0   Цікаву і пізнавальну подорож місцями , де наро...   \n1   Нещодавно на шаховій Олімпіаді українська жіно...   \n2   Виходець із козацько-старшинського роду А . Жд...   \n3   На довірливих кіровоградців полюють шахраї та ...   \n7   У Чернівцях завершилися змагання Кубка України...   \n..                                                ...   \n0   У Кіровограді голубів косить дивна хвороба .\\n...   \n2   Український « глухий кут » зумовлений тим , що...   \n3   Парламент має намір спростити процедуру реєстр...   \n4   Гоголь інтертекстуальний\\n\\nНайзагадковіший пи...   \n5   Метою запропонованої статті є аналіз структурн...   \n\n                                       entities_dumps  \n0   [{\"label\": \"LOC\", \"text\": \"\\u0441\\u0435\\u043b\\...  \n1   [{\"label\": \"MISC\", \"text\": \"\\u0448\\u0430\\u0445...  \n2   [{\"label\": \"ART\", \"text\": \"\\u0410 . \\u0416\\u04...  \n3   [{\"label\": \"MISC\", \"text\": \"\\u0448\\u0430\\u0445...  \n7   [{\"label\": \"LOC\", \"text\": \"\\u0427\\u0435\\u0440\\...  \n..                                                ...  \n0   [{\"label\": \"MISC\", \"text\": \"\\u0433\\u043e\\u043b...  \n2   [{\"label\": \"ART\", \"text\": \"\\u043a\\u0440\\u0430\\...  \n3   [{\"label\": \"LOG\", \"text\": \"\\u041f\\u0430\\u0440\\...  \n4   [{\"label\": \"ART\", \"text\": \"\\u0442\\u0435\\u043a\\...  \n5   [{\"label\": \"ART\", \"text\": \"\\u0441\\u0442\\u0430\\...  \n\n[125 rows x 4 columns]",
      "text/html": "<div>\n<style scoped>\n    .dataframe tbody tr th:only-of-type {\n        vertical-align: middle;\n    }\n\n    .dataframe tbody tr th {\n        vertical-align: top;\n    }\n\n    .dataframe thead th {\n        text-align: right;\n    }\n</style>\n<table border=\"1\" class=\"dataframe\">\n  <thead>\n    <tr style=\"text-align: right;\">\n      <th></th>\n      <th>id</th>\n      <th>entities</th>\n      <th>text</th>\n      <th>entities_dumps</th>\n    </tr>\n  </thead>\n  <tbody>\n    <tr>\n      <th>0</th>\n      <td>e29896ab781b5dbb97ae3f3f7862fa681e9d70a5e63866...</td>\n      <td>[{'label': 'LOC', 'text': 'село Моринці'}, {'l...</td>\n      <td>Цікаву і пізнавальну подорож місцями , де наро...</td>\n      <td>[{\"label\": \"LOC\", \"text\": \"\\u0441\\u0435\\u043b\\...</td>\n    </tr>\n    <tr>\n      <th>1</th>\n      <td>d67655fe3fe45e95cd63613c2189fe86728293bd0b8d3c...</td>\n      <td>[{'label': 'MISC', 'text': 'шаховій Олімпіаді'...</td>\n      <td>Нещодавно на шаховій Олімпіаді українська жіно...</td>\n      <td>[{\"label\": \"MISC\", \"text\": \"\\u0448\\u0430\\u0445...</td>\n    </tr>\n    <tr>\n      <th>2</th>\n      <td>b2c68352957ed341637aa9dd25b8a8ac00c32e8129d689...</td>\n      <td>[{'label': 'ART', 'text': 'А . Ждаха'}, {'labe...</td>\n      <td>Виходець із козацько-старшинського роду А . Жд...</td>\n      <td>[{\"label\": \"ART\", \"text\": \"\\u0410 . \\u0416\\u04...</td>\n    </tr>\n    <tr>\n      <th>3</th>\n      <td>bd22545c44af9e948961d48f5eacc6ec3c8867f4e21d16...</td>\n      <td>[{'label': 'MISC', 'text': 'шахраї'}, {'label'...</td>\n      <td>На довірливих кіровоградців полюють шахраї та ...</td>\n      <td>[{\"label\": \"MISC\", \"text\": \"\\u0448\\u0430\\u0445...</td>\n    </tr>\n    <tr>\n      <th>7</th>\n      <td>1631e88b93dd4c5eb1713d2674f6652daa93ef93c12058...</td>\n      <td>[{'label': 'LOC', 'text': 'Чернівцях'}, {'labe...</td>\n      <td>У Чернівцях завершилися змагання Кубка України...</td>\n      <td>[{\"label\": \"LOC\", \"text\": \"\\u0427\\u0435\\u0440\\...</td>\n    </tr>\n    <tr>\n      <th>...</th>\n      <td>...</td>\n      <td>...</td>\n      <td>...</td>\n      <td>...</td>\n    </tr>\n    <tr>\n      <th>0</th>\n      <td>12dbf3946b7d21c038f5f480914bae5f8b06bb2edb0939...</td>\n      <td>[{'label': 'MISC', 'text': 'голубів'}, {'label...</td>\n      <td>У Кіровограді голубів косить дивна хвороба .\\n...</td>\n      <td>[{\"label\": \"MISC\", \"text\": \"\\u0433\\u043e\\u043b...</td>\n    </tr>\n    <tr>\n      <th>2</th>\n      <td>c16a05c8d949e459fe3de4aa1b4f8ddd9a1438f4f2b876...</td>\n      <td>[{'label': 'ART', 'text': 'країни'}, {'label':...</td>\n      <td>Український « глухий кут » зумовлений тим , що...</td>\n      <td>[{\"label\": \"ART\", \"text\": \"\\u043a\\u0440\\u0430\\...</td>\n    </tr>\n    <tr>\n      <th>3</th>\n      <td>4931e7d5698cb5717e35c3812dbf5be5a9b5a4b8163859...</td>\n      <td>[{'label': 'LOG', 'text': 'Парламент'}, {'labe...</td>\n      <td>Парламент має намір спростити процедуру реєстр...</td>\n      <td>[{\"label\": \"LOG\", \"text\": \"\\u041f\\u0430\\u0440\\...</td>\n    </tr>\n    <tr>\n      <th>4</th>\n      <td>3cd65ee427c877b511fb592f0a8d9654e67f4eba6809ae...</td>\n      <td>[{'label': 'ART', 'text': 'текст'}, {'label': ...</td>\n      <td>Гоголь інтертекстуальний\\n\\nНайзагадковіший пи...</td>\n      <td>[{\"label\": \"ART\", \"text\": \"\\u0442\\u0435\\u043a\\...</td>\n    </tr>\n    <tr>\n      <th>5</th>\n      <td>fd3358c736ab92f7cd74f0b74234b5283bd51de993faa2...</td>\n      <td>[{'label': 'ART', 'text': 'статті'}, {'label':...</td>\n      <td>Метою запропонованої статті є аналіз структурн...</td>\n      <td>[{\"label\": \"ART\", \"text\": \"\\u0441\\u0442\\u0430\\...</td>\n    </tr>\n  </tbody>\n</table>\n<p>125 rows × 4 columns</p>\n</div>"
     },
     "execution_count": 17,
     "metadata": {},
     "output_type": "execute_result"
    }
   ],
   "source": [
    "submissions_0_6_df = pd.read_csv(\"../data/submission_0_6.csv\")\n",
    "submissions_df = pd.concat([\n",
    "    submissions_df,\n",
    "    submissions_0_6_df,\n",
    "])\n",
    "submissions_df.loc[submissions_df.loc[:, \"entities\"] != \"[]\"]"
   ],
   "metadata": {
    "collapsed": false,
    "ExecuteTime": {
     "end_time": "2024-12-11T18:49:11.845771Z",
     "start_time": "2024-12-11T18:49:11.755737Z"
    }
   }
  }
 ],
 "metadata": {
  "kernelspec": {
   "display_name": "Python 3",
   "language": "python",
   "name": "python3"
  },
  "language_info": {
   "codemirror_mode": {
    "name": "ipython",
    "version": 2
   },
   "file_extension": ".py",
   "mimetype": "text/x-python",
   "name": "python",
   "nbconvert_exporter": "python",
   "pygments_lexer": "ipython2",
   "version": "2.7.6"
  }
 },
 "nbformat": 4,
 "nbformat_minor": 0
}
