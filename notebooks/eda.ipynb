{
 "cells": [
  {
   "cell_type": "code",
   "execution_count": 6,
   "metadata": {
    "collapsed": true,
    "ExecuteTime": {
     "end_time": "2024-12-08T20:35:05.628659Z",
     "start_time": "2024-12-08T20:34:58.055102Z"
    }
   },
   "outputs": [],
   "source": [
    "import pandas as pd\n",
    "import json"
   ]
  },
  {
   "cell_type": "code",
   "execution_count": 7,
   "outputs": [
    {
     "data": {
      "text/plain": "                                                    id  \\\n0    582dab45ea473d07323e3c6a0415425c037e63b5a7ab0a...   \n1    df0933559918588668cb4219c80908b33cdef041dce468...   \n2    6b66cabd04bce970de47e4dbef5c1c0219591d296d4285...   \n3    3ca90ad4d912c780b305407035af5450c5136d52d11497...   \n4    27a06d92f27fdb30ffc4a13cafd98d81ae1cc7f436b865...   \n..                                                 ...   \n386  84a947547d6ba2e726e937bdc3186d7f242dd24d835b41...   \n387  9340ab70312c12f9e3da65b13c31d7cccb234cac3973a5...   \n388  8e28367fa94e8dd2f96a2a75eeb74767a382092bdad77d...   \n389  3cbbc257a6d296840d03e4ec7518a4f1b2c691458072d4...   \n390  6ae02040ca747c93b4e534d98c3084dda65d56c8b43d86...   \n\n                                                  text  \\\n0    Зрозуміло , що український бізнес почав викори...   \n1    \\nДолучилися до заходу заступник голови райдер...   \n2    У неділю , 4 березня , у Чернівцях у ліцеї № 4...   \n3    Міжнародний благодійний фонд « Покуття » , фун...   \n4    Цю прогалину , життєпис відомого колись на всю...   \n..                                                 ...   \n386  Філія «УМГ «Львівтрансгаз» ПАТ «Укртрансгаз» 2...   \n387  Сім'я судді Апеляційного суду м. Києва Дениса ...   \n388  Департамент капітального будівництва Одеської ...   \n389  Компанія з орбіти нардепа від ОПЗЖ Вадима Стол...   \n390  Вищий господарський суд відмовився задовольнит...   \n\n                                              entities  \n0    [{\"label\": \"MISC\", \"text\": \"\\u041a\\u0421\\u0412...  \n1    [{\"label\": \"JOB\", \"text\": \"\\u0437\\u0430\\u0441\\...  \n2    [{\"label\": \"DATE\", \"text\": \"4 \\u0431\\u0435\\u04...  \n3    [{\"label\": \"ORG\", \"text\": \"\\u041c\\u0456\\u0436\\...  \n4    [{\"label\": \"JOB\", \"text\": \"\\u0444\\u043e\\u0442\\...  \n..                                                 ...  \n386  [{\"label\": \"ORG\", \"text\": \"\\u0423\\u041c\\u0413 ...  \n387  [{\"label\": \"JOB\", \"text\": \"\\u0441\\u0443\\u0434\\...  \n388  [{\"label\": \"ORG\", \"text\": \"\\u0414\\u0435\\u043f\\...  \n389  [{\"label\": \"JOB\", \"text\": \"\\u043d\\u0430\\u0440\\...  \n390  [{\"label\": \"ORG\", \"text\": \"\\u0412\\u0438\\u0449\\...  \n\n[391 rows x 3 columns]",
      "text/html": "<div>\n<style scoped>\n    .dataframe tbody tr th:only-of-type {\n        vertical-align: middle;\n    }\n\n    .dataframe tbody tr th {\n        vertical-align: top;\n    }\n\n    .dataframe thead th {\n        text-align: right;\n    }\n</style>\n<table border=\"1\" class=\"dataframe\">\n  <thead>\n    <tr style=\"text-align: right;\">\n      <th></th>\n      <th>id</th>\n      <th>text</th>\n      <th>entities</th>\n    </tr>\n  </thead>\n  <tbody>\n    <tr>\n      <th>0</th>\n      <td>582dab45ea473d07323e3c6a0415425c037e63b5a7ab0a...</td>\n      <td>Зрозуміло , що український бізнес почав викори...</td>\n      <td>[{\"label\": \"MISC\", \"text\": \"\\u041a\\u0421\\u0412...</td>\n    </tr>\n    <tr>\n      <th>1</th>\n      <td>df0933559918588668cb4219c80908b33cdef041dce468...</td>\n      <td>\\nДолучилися до заходу заступник голови райдер...</td>\n      <td>[{\"label\": \"JOB\", \"text\": \"\\u0437\\u0430\\u0441\\...</td>\n    </tr>\n    <tr>\n      <th>2</th>\n      <td>6b66cabd04bce970de47e4dbef5c1c0219591d296d4285...</td>\n      <td>У неділю , 4 березня , у Чернівцях у ліцеї № 4...</td>\n      <td>[{\"label\": \"DATE\", \"text\": \"4 \\u0431\\u0435\\u04...</td>\n    </tr>\n    <tr>\n      <th>3</th>\n      <td>3ca90ad4d912c780b305407035af5450c5136d52d11497...</td>\n      <td>Міжнародний благодійний фонд « Покуття » , фун...</td>\n      <td>[{\"label\": \"ORG\", \"text\": \"\\u041c\\u0456\\u0436\\...</td>\n    </tr>\n    <tr>\n      <th>4</th>\n      <td>27a06d92f27fdb30ffc4a13cafd98d81ae1cc7f436b865...</td>\n      <td>Цю прогалину , життєпис відомого колись на всю...</td>\n      <td>[{\"label\": \"JOB\", \"text\": \"\\u0444\\u043e\\u0442\\...</td>\n    </tr>\n    <tr>\n      <th>...</th>\n      <td>...</td>\n      <td>...</td>\n      <td>...</td>\n    </tr>\n    <tr>\n      <th>386</th>\n      <td>84a947547d6ba2e726e937bdc3186d7f242dd24d835b41...</td>\n      <td>Філія «УМГ «Львівтрансгаз» ПАТ «Укртрансгаз» 2...</td>\n      <td>[{\"label\": \"ORG\", \"text\": \"\\u0423\\u041c\\u0413 ...</td>\n    </tr>\n    <tr>\n      <th>387</th>\n      <td>9340ab70312c12f9e3da65b13c31d7cccb234cac3973a5...</td>\n      <td>Сім'я судді Апеляційного суду м. Києва Дениса ...</td>\n      <td>[{\"label\": \"JOB\", \"text\": \"\\u0441\\u0443\\u0434\\...</td>\n    </tr>\n    <tr>\n      <th>388</th>\n      <td>8e28367fa94e8dd2f96a2a75eeb74767a382092bdad77d...</td>\n      <td>Департамент капітального будівництва Одеської ...</td>\n      <td>[{\"label\": \"ORG\", \"text\": \"\\u0414\\u0435\\u043f\\...</td>\n    </tr>\n    <tr>\n      <th>389</th>\n      <td>3cbbc257a6d296840d03e4ec7518a4f1b2c691458072d4...</td>\n      <td>Компанія з орбіти нардепа від ОПЗЖ Вадима Стол...</td>\n      <td>[{\"label\": \"JOB\", \"text\": \"\\u043d\\u0430\\u0440\\...</td>\n    </tr>\n    <tr>\n      <th>390</th>\n      <td>6ae02040ca747c93b4e534d98c3084dda65d56c8b43d86...</td>\n      <td>Вищий господарський суд відмовився задовольнит...</td>\n      <td>[{\"label\": \"ORG\", \"text\": \"\\u0412\\u0438\\u0449\\...</td>\n    </tr>\n  </tbody>\n</table>\n<p>391 rows × 3 columns</p>\n</div>"
     },
     "execution_count": 7,
     "metadata": {},
     "output_type": "execute_result"
    }
   ],
   "source": [
    "train_df = pd.read_csv(\"../data/train.csv\")\n",
    "train_df"
   ],
   "metadata": {
    "collapsed": false,
    "ExecuteTime": {
     "end_time": "2024-12-08T20:35:05.681428Z",
     "start_time": "2024-12-08T20:35:05.630204Z"
    }
   }
  },
  {
   "cell_type": "code",
   "execution_count": 8,
   "outputs": [
    {
     "data": {
      "text/plain": "[{'label': 'MISC', 'text': 'КСВ'},\n {'label': 'MISC', 'text': 'КСВ'},\n {'label': 'MISC', 'text': 'КСВ'},\n {'label': 'MISC', 'text': 'КСВ'},\n {'label': 'ORG', 'text': 'Життєлюб'},\n {'label': 'PERS', 'text': 'Гаріка Корогодського'},\n {'label': 'MISC', 'text': 'Глобальному договору'},\n {'label': 'MISC', 'text': 'Цілям сталого розвитку ООН'},\n {'label': 'ORG', 'text': 'Збройних Сил'},\n {'label': 'MISC', 'text': 'КСВ'},\n {'label': 'ORG', 'text': 'Збройні Сили України'},\n {'label': 'LOC', 'text': 'Криму'},\n {'label': 'LOC', 'text': 'Донбасі'},\n {'label': 'DATE', 'text': '2014 р .'},\n {'label': 'MON', 'text': 'сотні мільйонів доларів'},\n {'label': 'ORG', 'text': 'ЗСУ'},\n {'label': 'LOC', 'text': 'Україною'},\n {'label': 'ORG', 'text': 'Збройним Силам'},\n {'label': 'DATE', 'text': '2014 р .'},\n {'label': 'LOC', 'text': 'України'},\n {'label': 'LOC', 'text': 'Росії'},\n {'label': 'ORG', 'text': 'Roshen'},\n {'label': 'LOC', 'text': 'Києвом'},\n {'label': 'DATE', 'text': '2014 р .'},\n {'label': 'ORG', 'text': 'ЗСУ'},\n {'label': 'MON', 'text': '700-800 млн грн .'},\n {'label': 'MISC', 'text': 'КСВ'},\n {'label': 'MISC', 'text': 'КСВ'},\n {'label': 'ORG', 'text': 'Фармак'},\n {'label': 'MISC', 'text': 'КСВ'},\n {'label': 'LOC', 'text': 'Німеччини'},\n {'label': 'LOC', 'text': 'Австралії'},\n {'label': 'LOC', 'text': 'Швеції'},\n {'label': 'LOC', 'text': 'США'},\n {'label': 'ORG', 'text': 'Фармак'},\n {'label': 'LOC', 'text': 'Європи'},\n {'label': 'LOC', 'text': 'Азії'},\n {'label': 'DATE', 'text': 'березні 2018 р .'},\n {'label': 'ORG', 'text': 'Фармак'},\n {'label': 'ORG', 'text': 'Екошкола'}]"
     },
     "execution_count": 8,
     "metadata": {},
     "output_type": "execute_result"
    }
   ],
   "source": [
    "json.loads(train_df.loc[0, \"entities\"])"
   ],
   "metadata": {
    "collapsed": false,
    "ExecuteTime": {
     "end_time": "2024-12-08T20:35:05.685743Z",
     "start_time": "2024-12-08T20:35:05.683727Z"
    }
   }
  },
  {
   "cell_type": "code",
   "execution_count": 9,
   "outputs": [
    {
     "name": "stdout",
     "output_type": "stream",
     "text": [
      "Зрозуміло , що український бізнес почав використовувати КСВ як інструмент формування своєї репутації буквально декілька років тому .\n",
      "З одного боку , саме через це більшість проектів КСВ здійснюються епізодично та деколи виглядають , радше , як просто благодійність .\n",
      "Винятком будуть хіба що представництва іноземних корпорацій .\n",
      "З іншого боку , для українських компаній відкривається потужне « вікно можливостей » , щоб втілювати власні унікальні стратегії .\n",
      "\n",
      "Філантропія як пріоритет\n",
      "\n",
      "Найпоширенішим підходом українського бізнесу у КСВ є філантропія — компанії виділяють кошти на суспільно важливі проекти .\n",
      "Це може бути як власна ініціатива , так і відповідь на запит від громади .\n",
      "Це абсолютно нормальна практика через недостатній рівень статків та доходів переважної більшості українських громадян та громад .\n",
      "І хоча деякі місцеві експерти вважають це базовим рівнем , що свідчить про недостатній розвиток КСВ , ця діяльність заслуговує на повагу .\n",
      "Особливо якщо зауважити , що такі проекти часто спрямовані на обладнання шкіл , сприяння освіті , допомогу вимушеним переселенцям або літнім людям , як , наприклад , проект « Життєлюб » Гаріка Корогодського .\n",
      "Вони абсолютно відповідають Глобальному договору та Цілям сталого розвитку ООН .\n",
      "\n",
      "Виклики воєнного часу\n",
      "\n",
      "Підтримка Збройних Сил — один з унікальних і суто українських напрямків КСВ .\n",
      "Збройні Сили України напередодні анексії Криму та втручання « заклятого друга » у Донбасі перебували в стані жорсткого недофінансування .\n",
      "Хто прийшов на допомогу армії ?\n",
      "Малий та середній бізнес .\n",
      "Складно сказати , чи буде коли-небудь зроблена оцінка пожертв громадян у 2014 р . , але , радше за все , йдеться про сотні мільйонів доларів .\n",
      "Адже підприємці віддавали на оборону і гроші , і споряд ження , і продовольство , і автомобілі .\n",
      "Це не можна вважати чистою філантропією — йшлось про інстинкт самозбереження .\n",
      "На окупованих територіях багато бізнесменів втратили підприємства , які вони розбудовували роками .\n",
      "Тому підтримка ЗСУ стала для підприємців доброю інвестицією в безпеку власного бізнесу .\n",
      "\n",
      "Іноземці , хоч трохи знайомі з Україною , були шоковані рівнем допомоги Збройним Силам з боку суспільства .\n",
      "Вони вважають , що саме це врятувало країну 2014 р .\n",
      "Натомість представництва іноземних корпорацій не могли відверто надавати підтримку України , оскільки більшість з них робить бізнес і в Росії .\n",
      "Вони побоювались протидії з боку російської влади .\n",
      "Великі українські компанії брали участь у допомозі .\n",
      "Одним з показових прикладів є корпорація Roshen , яка , зокрема , допомагала відновити протиповітряний ракетний « щит » над Києвом 2014 р . та придбала 430 снайперських гвинтівок .\n",
      "За різними оцінками , корпорація витратила на закупівлі для ЗСУ 700-800 млн грн .\n",
      "\n",
      "Флагмани КСВ\n",
      "\n",
      "Вже у досить багатьох українських бізнесів практика КСВ досягла світового рівня .\n",
      "Наприклад , фармацевтична компанія « Фармак » впроваджує великі проекти в сфері КСВ за трьома пріоритетними напрямками : екологія , здоровий спосіб життя та корпоративне волонтерство .\n",
      "Компанія вдосконалює виробничі процеси для мінімізації шкідливих викидів та скорочення витрат електроенергії та води .\n",
      "Це важливо , тому що компанія експортує продукцію у понад 20 країн світу , в тому числі до Німеччини , Австралії , Швеції , США .\n",
      "Щорічно « Фармак » проходить 15 інспекцій і комісій з країн Європи , Азії та інших частин світу .\n",
      "А однією з найважливіших вимог інспекційних груп є дотримання екологічних норм та стандартів .\n",
      "\n",
      "У березні 2018 р .\n",
      "« Фармак » розпочав пілотний проект « Екошкола » — низку спеціальних тренінгів для учнів шкіл .\n",
      "На тренінгах можна дізнатись , як людина впливає на екосистему планети та що робити , щоб її зберегти .\n",
      "Цікаво також , що дітям розповідають , які вимоги висуваються до сталого бізнесу , та вчать їх проектному менеджменту на прикладі власної школи .\n"
     ]
    }
   ],
   "source": [
    "print(train_df.loc[0, \"text\"])"
   ],
   "metadata": {
    "collapsed": false,
    "ExecuteTime": {
     "end_time": "2024-12-08T20:35:05.689753Z",
     "start_time": "2024-12-08T20:35:05.687565Z"
    }
   }
  },
  {
   "cell_type": "code",
   "execution_count": null,
   "outputs": [],
   "source": [
    "labels: dict[str, str] = {\n",
    "    \"ART\": \"artifact\",\n",
    "    \"DATE\": \"date\",\n",
    "    \"DOC\": \"document\",\n",
    "    \"JOB\": \"job title\",\n",
    "    \"LOG\": \"location\",\n",
    "    \"MISC\": \"miscellaneous\",\n",
    "    \"MON\": \"money\",\n",
    "    \"ORG\": \"organization\",\n",
    "    \"PCT\": \"percentage\",\n",
    "    \"PERIOD\": \"period\",\n",
    "    \"PERS\": \"person name\",\n",
    "    \"QUANT\": \"quantity\",\n",
    "    \"TIME\": \"time\",\n",
    "}"
   ],
   "metadata": {
    "collapsed": false
   }
  },
  {
   "cell_type": "code",
   "execution_count": 2,
   "outputs": [],
   "source": [
    "QUANTIZE_4BIT = True\n",
    "device   = \"mps:0\""
   ],
   "metadata": {
    "collapsed": false,
    "ExecuteTime": {
     "end_time": "2024-12-08T20:33:14.562667Z",
     "start_time": "2024-12-08T20:33:14.559416Z"
    }
   }
  },
  {
   "cell_type": "code",
   "execution_count": 4,
   "outputs": [],
   "source": [
    "from transformers import AutoTokenizer\n",
    "\n",
    "checkpoint = \"CohereForAI/aya-23-8b\"\n",
    "quantization_config = None\n",
    "tokenizer = AutoTokenizer.from_pretrained(checkpoint)\n",
    "seq_lenght = 1300\n",
    "tokenizer.model_max_length = seq_lenght\n",
    "max_seq_length = seq_lenght"
   ],
   "metadata": {
    "collapsed": false,
    "ExecuteTime": {
     "end_time": "2024-12-08T20:34:07.971468Z",
     "start_time": "2024-12-08T20:34:06.529098Z"
    }
   }
  },
  {
   "cell_type": "code",
   "execution_count": 3,
   "outputs": [
    {
     "name": "stdout",
     "output_type": "stream",
     "text": [
      "Python 3.10.14\r\n"
     ]
    }
   ],
   "source": [
    "!python --version"
   ],
   "metadata": {
    "collapsed": false,
    "ExecuteTime": {
     "end_time": "2024-12-08T20:30:11.079342Z",
     "start_time": "2024-12-08T20:30:10.942773Z"
    }
   }
  },
  {
   "cell_type": "code",
   "execution_count": 10,
   "outputs": [
    {
     "name": "stderr",
     "output_type": "stream",
     "text": [
      "Token indices sequence length is longer than the specified maximum sequence length for this model (4247 > 1300). Running this sequence through the model will result in indexing errors\n"
     ]
    },
    {
     "data": {
      "text/plain": "count     391.000000\nmean     1020.283887\nstd       794.172847\nmin       265.000000\n25%       561.500000\n50%       613.000000\n75%      1204.000000\nmax      4640.000000\nName: text_tokens, dtype: float64"
     },
     "execution_count": 10,
     "metadata": {},
     "output_type": "execute_result"
    }
   ],
   "source": [
    "train_df.loc[:, \"text_tokens\"] = train_df.loc[:, \"text\"].apply(lambda x: len(tokenizer.tokenize(x)))\n",
    "train_df.loc[:, \"text_tokens\"].describe()"
   ],
   "metadata": {
    "collapsed": false,
    "ExecuteTime": {
     "end_time": "2024-12-08T20:36:21.198910Z",
     "start_time": "2024-12-08T20:36:20.388508Z"
    }
   }
  },
  {
   "cell_type": "code",
   "execution_count": null,
   "outputs": [],
   "source": [],
   "metadata": {
    "collapsed": false
   }
  }
 ],
 "metadata": {
  "kernelspec": {
   "display_name": "Python 3",
   "language": "python",
   "name": "python3"
  },
  "language_info": {
   "codemirror_mode": {
    "name": "ipython",
    "version": 2
   },
   "file_extension": ".py",
   "mimetype": "text/x-python",
   "name": "python",
   "nbconvert_exporter": "python",
   "pygments_lexer": "ipython2",
   "version": "2.7.6"
  }
 },
 "nbformat": 4,
 "nbformat_minor": 0
}
