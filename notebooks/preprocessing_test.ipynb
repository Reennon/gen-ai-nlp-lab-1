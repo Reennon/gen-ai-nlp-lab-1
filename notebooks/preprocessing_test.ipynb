{
 "cells": [
  {
   "cell_type": "code",
   "execution_count": 2,
   "outputs": [],
   "source": [
    "import pandas as pd\n",
    "from tqdm import tqdm\n",
    "from transformers import AutoTokenizer"
   ],
   "metadata": {
    "collapsed": false,
    "ExecuteTime": {
     "end_time": "2024-12-09T19:11:53.163386Z",
     "start_time": "2024-12-09T19:11:51.297470Z"
    }
   }
  },
  {
   "cell_type": "code",
   "execution_count": 3,
   "outputs": [],
   "source": [
    "checkpoint = \"CohereForAI/aya-23-8b\"\n",
    "tokenizer = AutoTokenizer.from_pretrained(checkpoint)"
   ],
   "metadata": {
    "collapsed": false,
    "ExecuteTime": {
     "end_time": "2024-12-09T19:11:54.342044Z",
     "start_time": "2024-12-09T19:11:53.164430Z"
    }
   }
  },
  {
   "cell_type": "code",
   "execution_count": 4,
   "outputs": [],
   "source": [
    "silver_test_df = pd.read_csv('../data/test.csv')  # Replace with your actual file path"
   ],
   "metadata": {
    "collapsed": false,
    "ExecuteTime": {
     "end_time": "2024-12-09T19:11:55.254444Z",
     "start_time": "2024-12-09T19:11:55.228933Z"
    }
   }
  },
  {
   "cell_type": "code",
   "execution_count": 6,
   "outputs": [
    {
     "name": "stderr",
     "output_type": "stream",
     "text": [
      "169it [00:04, 39.36it/s] "
     ]
    },
    {
     "name": "stdout",
     "output_type": "stream",
     "text": [
      "Number of splits per original id:\n",
      "id\n",
      "f1d0b2b9ee882b29d1fb11414e662cbcdc74eece062e599ff1d93ae521f3f2e4    10\n",
      "4b15a0d182a85fd225d74b18fc5a6b2d6ebc9cb1401c2efcb89fbdff74e815e0    10\n",
      "9e4efdea7c59818f5fa27e497347a9827724f8caf32bb5af7d293ad9956bbd2e    10\n",
      "b3499523741aece73ba78eb872626c365732d9a663bf03b05d4501a58138a08d    10\n",
      "770f40e00a5840e7b5e727547a063582a00020f57b1b73b22463a7f911e20100    10\n",
      "                                                                    ..\n",
      "7261e630306cad5095c75c3444d7dc54952cd0f594ccad5903ac48e1ee12056a     1\n",
      "2a4886ba8e84b6c0f099fd111ecd8d6ada8864c9d1a120883339f064676f7655     1\n",
      "ac462db1dbcb330104e6aa92266ac56f0f73c005ae1ca8907a511a225b64cc7d     1\n",
      "408a2cf9d7a70ab87154eae8bf7d0d48dfba307cd66c4c863975288d62b389a4     1\n",
      "d2291754a5c5878fa471d750ed1145643d0369db349dba31b00a5993615afd37     1\n",
      "Name: count, Length: 169, dtype: int64\n"
     ]
    },
    {
     "name": "stderr",
     "output_type": "stream",
     "text": [
      "\n"
     ]
    },
    {
     "data": {
      "text/plain": "                                                    id  \\\n0    e29896ab781b5dbb97ae3f3f7862fa681e9d70a5e63866...   \n1    e29896ab781b5dbb97ae3f3f7862fa681e9d70a5e63866...   \n2    d67655fe3fe45e95cd63613c2189fe86728293bd0b8d3c...   \n3    d67655fe3fe45e95cd63613c2189fe86728293bd0b8d3c...   \n4    b2c68352957ed341637aa9dd25b8a8ac00c32e8129d689...   \n..                                                 ...   \n496  dcb588274235339ab44950ee26872ed5cfc3fbb503a1a3...   \n497  b2a11bba5aeca217085bafa76544f734475c6eeb79ec1d...   \n498  b2a11bba5aeca217085bafa76544f734475c6eeb79ec1d...   \n499  685bc4e34d71522430a08a12f3f1fcef65c3fc01c51fba...   \n500  685bc4e34d71522430a08a12f3f1fcef65c3fc01c51fba...   \n\n                                                  text  \n0    Цікаву і пізнавальну подорож місцями , де наро...  \n1    А кожну музейну залу прикрашають репродукції к...  \n2    Нещодавно на шаховій Олімпіаді українська жіно...  \n3    Стародавня гра активно культивувалася й в інши...  \n4    Виходець із козацько-старшинського роду А . Жд...  \n..                                                 ...  \n496  Нагадаємо, минулого тижня в Києві відбулось за...  \n497  23 жовтня Служба автомобільних доріг у Кіровог...  \n498  З початку року Azvirt MMC виграла 17 тендерів ...  \n499  Заступник Головного військового прокурора Гене...  \n500  В квітні 2017 року декларацію Борзих прибрали ...  \n\n[501 rows x 2 columns]",
      "text/html": "<div>\n<style scoped>\n    .dataframe tbody tr th:only-of-type {\n        vertical-align: middle;\n    }\n\n    .dataframe tbody tr th {\n        vertical-align: top;\n    }\n\n    .dataframe thead th {\n        text-align: right;\n    }\n</style>\n<table border=\"1\" class=\"dataframe\">\n  <thead>\n    <tr style=\"text-align: right;\">\n      <th></th>\n      <th>id</th>\n      <th>text</th>\n    </tr>\n  </thead>\n  <tbody>\n    <tr>\n      <th>0</th>\n      <td>e29896ab781b5dbb97ae3f3f7862fa681e9d70a5e63866...</td>\n      <td>Цікаву і пізнавальну подорож місцями , де наро...</td>\n    </tr>\n    <tr>\n      <th>1</th>\n      <td>e29896ab781b5dbb97ae3f3f7862fa681e9d70a5e63866...</td>\n      <td>А кожну музейну залу прикрашають репродукції к...</td>\n    </tr>\n    <tr>\n      <th>2</th>\n      <td>d67655fe3fe45e95cd63613c2189fe86728293bd0b8d3c...</td>\n      <td>Нещодавно на шаховій Олімпіаді українська жіно...</td>\n    </tr>\n    <tr>\n      <th>3</th>\n      <td>d67655fe3fe45e95cd63613c2189fe86728293bd0b8d3c...</td>\n      <td>Стародавня гра активно культивувалася й в інши...</td>\n    </tr>\n    <tr>\n      <th>4</th>\n      <td>b2c68352957ed341637aa9dd25b8a8ac00c32e8129d689...</td>\n      <td>Виходець із козацько-старшинського роду А . Жд...</td>\n    </tr>\n    <tr>\n      <th>...</th>\n      <td>...</td>\n      <td>...</td>\n    </tr>\n    <tr>\n      <th>496</th>\n      <td>dcb588274235339ab44950ee26872ed5cfc3fbb503a1a3...</td>\n      <td>Нагадаємо, минулого тижня в Києві відбулось за...</td>\n    </tr>\n    <tr>\n      <th>497</th>\n      <td>b2a11bba5aeca217085bafa76544f734475c6eeb79ec1d...</td>\n      <td>23 жовтня Служба автомобільних доріг у Кіровог...</td>\n    </tr>\n    <tr>\n      <th>498</th>\n      <td>b2a11bba5aeca217085bafa76544f734475c6eeb79ec1d...</td>\n      <td>З початку року Azvirt MMC виграла 17 тендерів ...</td>\n    </tr>\n    <tr>\n      <th>499</th>\n      <td>685bc4e34d71522430a08a12f3f1fcef65c3fc01c51fba...</td>\n      <td>Заступник Головного військового прокурора Гене...</td>\n    </tr>\n    <tr>\n      <th>500</th>\n      <td>685bc4e34d71522430a08a12f3f1fcef65c3fc01c51fba...</td>\n      <td>В квітні 2017 року декларацію Борзих прибрали ...</td>\n    </tr>\n  </tbody>\n</table>\n<p>501 rows × 2 columns</p>\n</div>"
     },
     "execution_count": 6,
     "metadata": {},
     "output_type": "execute_result"
    }
   ],
   "source": [
    "MAX_TOKENS = 500\n",
    "\n",
    "# Step 3: Define the Splitting Function\n",
    "def split_text(row, tokenizer, max_tokens=500):\n",
    "    text = row['text']\n",
    "    original_id = row['id']\n",
    "\n",
    "    # Split text into lines based on newlines\n",
    "    lines = text.split('\\n')\n",
    "\n",
    "    chunks = []\n",
    "    current_chunk = \"\"\n",
    "\n",
    "    for line in lines:\n",
    "        # Tentatively add the line to the current chunk\n",
    "        tentative_chunk = f\"{current_chunk}\\n{line}\" if current_chunk else line\n",
    "        tokens = tokenizer.encode(tentative_chunk, add_special_tokens=False)\n",
    "\n",
    "        if len(tokens) <= max_tokens:\n",
    "            current_chunk = tentative_chunk\n",
    "        else:\n",
    "            if current_chunk:\n",
    "                # Finalize the current chunk\n",
    "                chunks.append({\n",
    "                    'id': original_id,\n",
    "                    'text': current_chunk\n",
    "                })\n",
    "                current_chunk = line  # Start a new chunk with the current line\n",
    "\n",
    "                # Check if the new line itself exceeds max_tokens\n",
    "                line_tokens = tokenizer.encode(line, add_special_tokens=False)\n",
    "                if len(line_tokens) > max_tokens:\n",
    "                    # Truncate the line to fit\n",
    "                    truncated_tokens = line_tokens[:max_tokens]\n",
    "                    truncated_text = tokenizer.decode(truncated_tokens, clean_up_tokenization_spaces=True)\n",
    "                    chunks.append({\n",
    "                        'id': original_id,\n",
    "                        'text': truncated_text\n",
    "                    })\n",
    "                    current_chunk = \"\"  # Reset current chunk\n",
    "            else:\n",
    "                # Current chunk is empty, but the line exceeds max_tokens\n",
    "                truncated_tokens = tokens[:max_tokens]\n",
    "                truncated_text = tokenizer.decode(truncated_tokens, clean_up_tokenization_spaces=True)\n",
    "                chunks.append({\n",
    "                    'id': original_id,\n",
    "                    'text': truncated_text\n",
    "                })\n",
    "                current_chunk = \"\"\n",
    "\n",
    "    # Append any remaining chunk\n",
    "    if current_chunk:\n",
    "        chunks.append({\n",
    "            'id': original_id,\n",
    "            'text': current_chunk\n",
    "        })\n",
    "\n",
    "    return chunks\n",
    "\n",
    "# Step 4: Apply the Splitting Function to the DataFrame\n",
    "split_data = []\n",
    "\n",
    "for _, row in tqdm(silver_test_df.iterrows()):\n",
    "    split_chunks = split_text(row, tokenizer, MAX_TOKENS)\n",
    "    split_data.extend(split_chunks)\n",
    "\n",
    "# Create a new DataFrame from the split data\n",
    "silver_test_df = pd.DataFrame(split_data)\n",
    "\n",
    "# Step 5: Handle Edge Cases and Ensure Data Integrity\n",
    "# Optional: Remove any empty texts\n",
    "silver_test_df = silver_test_df[silver_test_df['text'].str.strip() != ''].reset_index(drop=True)\n",
    "\n",
    "# Optional: Log the number of splits per original id\n",
    "split_counts = silver_test_df['id'].value_counts()\n",
    "print(\"Number of splits per original id:\")\n",
    "print(split_counts)\n",
    "\n",
    "silver_test_df"
   ],
   "metadata": {
    "collapsed": false,
    "ExecuteTime": {
     "end_time": "2024-12-09T19:13:07.918170Z",
     "start_time": "2024-12-09T19:13:03.617064Z"
    }
   }
  },
  {
   "cell_type": "code",
   "execution_count": 7,
   "outputs": [],
   "source": [
    "# Step 6: Final DataFrame Preparation\n",
    "silver_test_df.reset_index(drop=True, inplace=True)\n",
    "silver_test_df.to_csv('../data/silver_test.csv', index=False)"
   ],
   "metadata": {
    "collapsed": false,
    "ExecuteTime": {
     "end_time": "2024-12-09T19:13:07.952348Z",
     "start_time": "2024-12-09T19:13:07.918911Z"
    }
   }
  }
 ],
 "metadata": {
  "kernelspec": {
   "display_name": "Python 3",
   "language": "python",
   "name": "python3"
  },
  "language_info": {
   "codemirror_mode": {
    "name": "ipython",
    "version": 2
   },
   "file_extension": ".py",
   "mimetype": "text/x-python",
   "name": "python",
   "nbconvert_exporter": "python",
   "pygments_lexer": "ipython2",
   "version": "2.7.6"
  }
 },
 "nbformat": 4,
 "nbformat_minor": 0
}
